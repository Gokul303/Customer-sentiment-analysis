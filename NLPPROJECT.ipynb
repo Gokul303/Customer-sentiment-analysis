{
 "cells": [
  {
   "cell_type": "code",
   "execution_count": 13,
   "id": "b2e0688c",
   "metadata": {},
   "outputs": [
    {
     "name": "stdout",
     "output_type": "stream",
     "text": [
      "Collecting vaderSentiment\n",
      "  Downloading vaderSentiment-3.3.2-py2.py3-none-any.whl.metadata (572 bytes)\n",
      "Collecting requests (from vaderSentiment)\n",
      "  Downloading requests-2.32.5-py3-none-any.whl.metadata (4.9 kB)\n",
      "Collecting charset_normalizer<4,>=2 (from requests->vaderSentiment)\n",
      "  Downloading charset_normalizer-3.4.4-cp313-cp313-win_amd64.whl.metadata (38 kB)\n",
      "Collecting idna<4,>=2.5 (from requests->vaderSentiment)\n",
      "  Downloading idna-3.11-py3-none-any.whl.metadata (8.4 kB)\n",
      "Collecting urllib3<3,>=1.21.1 (from requests->vaderSentiment)\n",
      "  Downloading urllib3-2.5.0-py3-none-any.whl.metadata (6.5 kB)\n",
      "Collecting certifi>=2017.4.17 (from requests->vaderSentiment)\n",
      "  Downloading certifi-2025.10.5-py3-none-any.whl.metadata (2.5 kB)\n",
      "Downloading vaderSentiment-3.3.2-py2.py3-none-any.whl (125 kB)"
     ]
    },
    {
     "name": "stderr",
     "output_type": "stream",
     "text": [
      "\n",
      "[notice] A new release of pip is available: 24.3.1 -> 25.3\n",
      "[notice] To update, run: python.exe -m pip install --upgrade pip\n"
     ]
    },
    {
     "name": "stdout",
     "output_type": "stream",
     "text": [
      "\n",
      "Downloading requests-2.32.5-py3-none-any.whl (64 kB)\n",
      "Downloading certifi-2025.10.5-py3-none-any.whl (163 kB)\n",
      "Downloading charset_normalizer-3.4.4-cp313-cp313-win_amd64.whl (107 kB)\n",
      "Downloading idna-3.11-py3-none-any.whl (71 kB)\n",
      "Downloading urllib3-2.5.0-py3-none-any.whl (129 kB)\n",
      "Installing collected packages: urllib3, idna, charset_normalizer, certifi, requests, vaderSentiment\n",
      "Successfully installed certifi-2025.10.5 charset_normalizer-3.4.4 idna-3.11 requests-2.32.5 urllib3-2.5.0 vaderSentiment-3.3.2\n"
     ]
    }
   ],
   "source": [
    "!pip install vaderSentiment"
   ]
  },
  {
   "cell_type": "code",
   "execution_count": null,
   "id": "06f00c68",
   "metadata": {},
   "outputs": [
    {
     "name": "stdout",
     "output_type": "stream",
     "text": [
      "✅ Data Loaded Successfully!\n",
      "                                              review  rating      product  \\\n",
      "0  Absolutely love this product! The quality is e...       5  electronics   \n",
      "1  Great value for money. The battery life is ama...       5  electronics   \n",
      "2  The dress fits perfectly and the material is v...       4     clothing   \n",
      "3  Terrible product! Stopped working after just 2...       1  electronics   \n",
      "4  Poor quality material. The size was completely...       2     clothing   \n",
      "\n",
      "   helpful_votes  \n",
      "0             12  \n",
      "1              8  \n",
      "2             15  \n",
      "3             23  \n",
      "4             18  \n",
      "\n",
      "✅ Sentiment Analysis Completed!\n",
      "\n",
      "                                              review  compound_score sentiment\n",
      "0  Absolutely love this product! The quality is e...          0.8016  Positive\n",
      "1  Great value for money. The battery life is ama...          0.9080  Positive\n",
      "2  The dress fits perfectly and the material is v...          0.8313  Positive\n",
      "3  Terrible product! Stopped working after just 2...         -0.7351  Negative\n",
      "4  Poor quality material. The size was completely...         -0.8716  Negative\n"
     ]
    },
    {
     "name": "stderr",
     "output_type": "stream",
     "text": [
      "C:\\Users\\ASUS\\AppData\\Local\\Temp\\ipykernel_8508\\3950987803.py:51: FutureWarning: \n",
      "\n",
      "Passing `palette` without assigning `hue` is deprecated and will be removed in v0.14.0. Assign the `x` variable to `hue` and set `legend=False` for the same effect.\n",
      "\n",
      "  sns.countplot(x='sentiment', data=df, palette='Set2')\n"
     ]
    },
    {
     "data": {
      "image/png": "[encoded data removed]",
      "text/plain": [
       "<Figure size 600x400 with 1 Axes>"
      ]
     },
     "metadata": {},
     "output_type": "display_data"
    },
    {
     "name": "stdout",
     "output_type": "stream",
     "text": [
      "\n",
      "📁 Results saved successfully as 'Sentiment_Analysis_Results.csv'\n"
     ]
    }
   ],
   "source": [
    "# Import Libraries\n",
    "import pandas as pd\n",
    "import re\n",
    "from vaderSentiment.vaderSentiment import SentimentIntensityAnalyzer\n",
    "import matplotlib.pyplot as plt\n",
    "import seaborn as sns\n",
    "import ast\n",
    "\n",
    "# Load Dataset\n",
    "with open(r\"C:\\Users\\ASUS\\Downloads\\sample_reviews.txt\", \"r\", encoding=\"utf-8\") as f:\n",
    "    content = f.read()\n",
    "\n",
    "content = content.split(\"=\", 1)[1].strip()\n",
    "sample_reviews = ast.literal_eval(content)\n",
    "\n",
    "df = pd.DataFrame(sample_reviews)\n",
    "print(\"✅ Data Loaded Successfully!\")\n",
    "print(df.head())\n",
    "\n",
    "# Clean the Text\n",
    "def clean_text(text):\n",
    "    text = re.sub('[^a-zA-Z ]', '', text)\n",
    "    text = text.lower().strip()\n",
    "    return text\n",
    "\n",
    "df['clean_review'] = df['review'].apply(clean_text)\n",
    "\n",
    "# Sentiment Analysis using VADER\n",
    "analyzer = SentimentIntensityAnalyzer()\n",
    "\n",
    "df['compound_score'] = df['clean_review'].apply(lambda x: analyzer.polarity_scores(x)['compound'])\n",
    "df['sentiment'] = df['compound_score'].apply(\n",
    "    lambda x: 'Positive' if x > 0.05 else ('Negative' if x < -0.05 else 'Neutral')\n",
    ")\n",
    "\n",
    "print(\"\\n✅ Sentiment Analysis Completed!\\n\")\n",
    "print(df[['review', 'compound_score', 'sentiment']].head())\n",
    "\n",
    "\n",
    "# Sentiment Count Visualization\n",
    "\n",
    "plt.figure(figsize=(6,4))\n",
    "sns.countplot(x='sentiment', data=df, palette='Set2')\n",
    "plt.title(\"Sentiment Distribution in Customer Reviews\")\n",
    "plt.xlabel(\"Sentiment Type\")\n",
    "plt.ylabel(\"Count\")\n",
    "plt.show()\n",
    "\n",
    "# Save Results\n",
    "df.to_csv(\"Sentiment_Analysis_Results.csv\", index=False)\n",
    "print(\"\\n📁 Results saved successfully as 'Sentiment_Analysis_Results.csv'\")\n"
   ]
  },
  {
   "cell_type": "code",
   "execution_count": null,
   "id": "fe603458",
   "metadata": {},
   "outputs": [],
   "source": []
  }
 ],
 "metadata": {
  "kernelspec": {
   "display_name": "env",
   "language": "python",
   "name": "python3"
  },
  "language_info": {
   "codemirror_mode": {
    "name": "ipython",
    "version": 3
   },
   "file_extension": ".py",
   "mimetype": "text/x-python",
   "name": "python",
   "nbconvert_exporter": "python",
   "pygments_lexer": "ipython3",
   "version": "3.13.2"
  }
 },
 "nbformat": 4,
 "nbformat_minor": 5
}
